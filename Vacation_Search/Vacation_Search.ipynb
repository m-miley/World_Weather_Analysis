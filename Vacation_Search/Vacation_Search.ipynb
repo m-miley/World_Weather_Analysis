{
 "cells": [
  {
   "cell_type": "markdown",
   "metadata": {},
   "source": [
    "## Deliverable 2. Create a Customer Travel Destinations Map."
   ]
  },
  {
   "cell_type": "code",
   "execution_count": 1,
   "metadata": {
    "scrolled": true
   },
   "outputs": [],
   "source": [
    "# Dependencies and Setup\n",
    "import pandas as pd\n",
    "import requests\n",
    "import gmaps\n",
    "import numpy as np\n",
    "\n",
    "# Import API key\n",
    "from config import g_key\n",
    "\n",
    "# Configure gmaps API key\n",
    "gmaps.configure(api_key=g_key)"
   ]
  },
  {
   "cell_type": "code",
   "execution_count": 2,
   "metadata": {},
   "outputs": [
    {
     "data": {
      "text/html": [
       "<div>\n",
       "<style scoped>\n",
       "    .dataframe tbody tr th:only-of-type {\n",
       "        vertical-align: middle;\n",
       "    }\n",
       "\n",
       "    .dataframe tbody tr th {\n",
       "        vertical-align: top;\n",
       "    }\n",
       "\n",
       "    .dataframe thead th {\n",
       "        text-align: right;\n",
       "    }\n",
       "</style>\n",
       "<table border=\"1\" class=\"dataframe\">\n",
       "  <thead>\n",
       "    <tr style=\"text-align: right;\">\n",
       "      <th></th>\n",
       "      <th>City_ID</th>\n",
       "      <th>City</th>\n",
       "      <th>Country</th>\n",
       "      <th>Latitude</th>\n",
       "      <th>Longitude</th>\n",
       "      <th>Max Temperature</th>\n",
       "      <th>Percent Humidity</th>\n",
       "      <th>Percent Cloudiness</th>\n",
       "      <th>Wind Speed</th>\n",
       "      <th>Weather Description</th>\n",
       "    </tr>\n",
       "  </thead>\n",
       "  <tbody>\n",
       "    <tr>\n",
       "      <th>0</th>\n",
       "      <td>0</td>\n",
       "      <td>Kavieng</td>\n",
       "      <td>PG</td>\n",
       "      <td>-2.5744</td>\n",
       "      <td>150.7967</td>\n",
       "      <td>82.74</td>\n",
       "      <td>71</td>\n",
       "      <td>100</td>\n",
       "      <td>6.38</td>\n",
       "      <td>overcast clouds</td>\n",
       "    </tr>\n",
       "    <tr>\n",
       "      <th>1</th>\n",
       "      <td>1</td>\n",
       "      <td>East London</td>\n",
       "      <td>ZA</td>\n",
       "      <td>-33.0153</td>\n",
       "      <td>27.9116</td>\n",
       "      <td>69.82</td>\n",
       "      <td>57</td>\n",
       "      <td>0</td>\n",
       "      <td>6.80</td>\n",
       "      <td>clear sky</td>\n",
       "    </tr>\n",
       "    <tr>\n",
       "      <th>2</th>\n",
       "      <td>2</td>\n",
       "      <td>Geraldton</td>\n",
       "      <td>AU</td>\n",
       "      <td>-28.7667</td>\n",
       "      <td>114.6000</td>\n",
       "      <td>57.61</td>\n",
       "      <td>94</td>\n",
       "      <td>23</td>\n",
       "      <td>6.91</td>\n",
       "      <td>few clouds</td>\n",
       "    </tr>\n",
       "    <tr>\n",
       "      <th>3</th>\n",
       "      <td>3</td>\n",
       "      <td>Rikitea</td>\n",
       "      <td>PF</td>\n",
       "      <td>-23.1203</td>\n",
       "      <td>-134.9692</td>\n",
       "      <td>77.02</td>\n",
       "      <td>72</td>\n",
       "      <td>14</td>\n",
       "      <td>20.56</td>\n",
       "      <td>few clouds</td>\n",
       "    </tr>\n",
       "    <tr>\n",
       "      <th>4</th>\n",
       "      <td>4</td>\n",
       "      <td>Nikolskoye</td>\n",
       "      <td>RU</td>\n",
       "      <td>59.7035</td>\n",
       "      <td>30.7861</td>\n",
       "      <td>41.88</td>\n",
       "      <td>49</td>\n",
       "      <td>84</td>\n",
       "      <td>6.33</td>\n",
       "      <td>broken clouds</td>\n",
       "    </tr>\n",
       "  </tbody>\n",
       "</table>\n",
       "</div>"
      ],
      "text/plain": [
       "   City_ID         City Country  Latitude  Longitude  Max Temperature  \\\n",
       "0        0      Kavieng      PG   -2.5744   150.7967            82.74   \n",
       "1        1  East London      ZA  -33.0153    27.9116            69.82   \n",
       "2        2    Geraldton      AU  -28.7667   114.6000            57.61   \n",
       "3        3      Rikitea      PF  -23.1203  -134.9692            77.02   \n",
       "4        4   Nikolskoye      RU   59.7035    30.7861            41.88   \n",
       "\n",
       "   Percent Humidity  Percent Cloudiness  Wind Speed Weather Description  \n",
       "0                71                 100        6.38     overcast clouds  \n",
       "1                57                   0        6.80           clear sky  \n",
       "2                94                  23        6.91          few clouds  \n",
       "3                72                  14       20.56          few clouds  \n",
       "4                49                  84        6.33       broken clouds  "
      ]
     },
     "execution_count": 2,
     "metadata": {},
     "output_type": "execute_result"
    }
   ],
   "source": [
    "# 1. Import the WeatherPy_database.csv file. \n",
    "city_data_df = pd.read_csv(\"../Weather_Database/WeatherPy_database.csv\")\n",
    "city_data_df.head()"
   ]
  },
  {
   "cell_type": "code",
   "execution_count": 3,
   "metadata": {},
   "outputs": [
    {
     "name": "stdout",
     "output_type": "stream",
     "text": [
      "What is the maximum maximum temperature you wish for your destination? 75\n",
      "What is the mininum maximum temperature you wish for your destination? 45\n"
     ]
    }
   ],
   "source": [
    "# Prompt the user to input desired maximum and minimum temperatures\n",
    "max_temp = float(input(\"What is the maximum maximum temperature you wish for your destination? \"))\n",
    "min_temp = float(input(\"What is the mininum maximum temperature you wish for your destination? \"))"
   ]
  },
  {
   "cell_type": "code",
   "execution_count": 4,
   "metadata": {
    "scrolled": true
   },
   "outputs": [],
   "source": [
    "# 3. Filter the city_data_df DataFrame using the input statements to create a new DataFrame using the loc method.\n",
    "preferred_df = city_data_df.loc[(city_data_df['Max Temperature'] > 45) & (city_data_df['Max Temperature'] < 75)]"
   ]
  },
  {
   "cell_type": "code",
   "execution_count": 5,
   "metadata": {
    "scrolled": false
   },
   "outputs": [
    {
     "data": {
      "text/plain": [
       "City_ID                0\n",
       "City                   0\n",
       "Country                2\n",
       "Latitude               0\n",
       "Longitude              0\n",
       "Max Temperature        0\n",
       "Percent Humidity       0\n",
       "Percent Cloudiness     0\n",
       "Wind Speed             0\n",
       "Weather Description    0\n",
       "dtype: int64"
      ]
     },
     "execution_count": 5,
     "metadata": {},
     "output_type": "execute_result"
    }
   ],
   "source": [
    "# 4a. Determine if there are any empty rows.\n",
    "preferred_df.isnull().sum()"
   ]
  },
  {
   "cell_type": "code",
   "execution_count": 6,
   "metadata": {},
   "outputs": [],
   "source": [
    "# 4b. Drop any empty rows and create a new DataFrame that doesn’t have empty rows.\n",
    "preferred_df = preferred_df.dropna()"
   ]
  },
  {
   "cell_type": "code",
   "execution_count": 7,
   "metadata": {
    "scrolled": true
   },
   "outputs": [
    {
     "data": {
      "text/html": [
       "<div>\n",
       "<style scoped>\n",
       "    .dataframe tbody tr th:only-of-type {\n",
       "        vertical-align: middle;\n",
       "    }\n",
       "\n",
       "    .dataframe tbody tr th {\n",
       "        vertical-align: top;\n",
       "    }\n",
       "\n",
       "    .dataframe thead th {\n",
       "        text-align: right;\n",
       "    }\n",
       "</style>\n",
       "<table border=\"1\" class=\"dataframe\">\n",
       "  <thead>\n",
       "    <tr style=\"text-align: right;\">\n",
       "      <th></th>\n",
       "      <th>City</th>\n",
       "      <th>Country</th>\n",
       "      <th>Max Temp</th>\n",
       "      <th>Current Description</th>\n",
       "      <th>Lat</th>\n",
       "      <th>Lng</th>\n",
       "      <th>Hotel Name</th>\n",
       "    </tr>\n",
       "  </thead>\n",
       "  <tbody>\n",
       "    <tr>\n",
       "      <th>673</th>\n",
       "      <td>Stromness</td>\n",
       "      <td>GB</td>\n",
       "      <td>51.76</td>\n",
       "      <td>Scattered Clouds</td>\n",
       "      <td>58.9650</td>\n",
       "      <td>-3.2960</td>\n",
       "      <td></td>\n",
       "    </tr>\n",
       "    <tr>\n",
       "      <th>677</th>\n",
       "      <td>Guangshui</td>\n",
       "      <td>CN</td>\n",
       "      <td>49.44</td>\n",
       "      <td>Overcast Clouds</td>\n",
       "      <td>31.6199</td>\n",
       "      <td>113.9978</td>\n",
       "      <td></td>\n",
       "    </tr>\n",
       "    <tr>\n",
       "      <th>679</th>\n",
       "      <td>Camacha</td>\n",
       "      <td>PT</td>\n",
       "      <td>63.82</td>\n",
       "      <td>Scattered Clouds</td>\n",
       "      <td>33.0833</td>\n",
       "      <td>-16.3333</td>\n",
       "      <td></td>\n",
       "    </tr>\n",
       "    <tr>\n",
       "      <th>681</th>\n",
       "      <td>Killybegs</td>\n",
       "      <td>IE</td>\n",
       "      <td>56.91</td>\n",
       "      <td>Scattered Clouds</td>\n",
       "      <td>54.6333</td>\n",
       "      <td>-8.4500</td>\n",
       "      <td></td>\n",
       "    </tr>\n",
       "    <tr>\n",
       "      <th>684</th>\n",
       "      <td>Laguna</td>\n",
       "      <td>US</td>\n",
       "      <td>58.01</td>\n",
       "      <td>Clear Sky</td>\n",
       "      <td>38.4210</td>\n",
       "      <td>-121.4238</td>\n",
       "      <td></td>\n",
       "    </tr>\n",
       "  </tbody>\n",
       "</table>\n",
       "</div>"
      ],
      "text/plain": [
       "          City Country  Max Temp Current Description      Lat       Lng  \\\n",
       "673  Stromness      GB     51.76    Scattered Clouds  58.9650   -3.2960   \n",
       "677  Guangshui      CN     49.44     Overcast Clouds  31.6199  113.9978   \n",
       "679    Camacha      PT     63.82    Scattered Clouds  33.0833  -16.3333   \n",
       "681  Killybegs      IE     56.91    Scattered Clouds  54.6333   -8.4500   \n",
       "684     Laguna      US     58.01           Clear Sky  38.4210 -121.4238   \n",
       "\n",
       "    Hotel Name  \n",
       "673             \n",
       "677             \n",
       "679             \n",
       "681             \n",
       "684             "
      ]
     },
     "execution_count": 7,
     "metadata": {},
     "output_type": "execute_result"
    }
   ],
   "source": [
    "# 5a. Create DataFrame called hotel_df to store hotel names along with city, country, max temp, and coordinates.\n",
    "#Rename preferred_df columns\n",
    "preferred_df = preferred_df.rename(columns={'Latitude': 'Lat', \"Longitude\": \"Lng\", \"Max Temperature\": \"Max Temp\",\n",
    "                            \"Weather Description\": \"Current Description\"})\n",
    "#Select and order columns and create hotel_df copy\n",
    "hotel_df = preferred_df[[\"City\", \"Country\", \"Max Temp\", \"Current Description\", \"Lat\", \"Lng\"]].copy()\n",
    "\n",
    "# 5b. Create a new column \"Hotel Name\"\n",
    "hotel_df[\"Hotel Name\"] = \"\"\n",
    "hotel_df.reindex(range(len(hotel_df)))\n",
    "\n",
    "hotel_df['Current Description'] = [row['Current Description'].title() for i, row in hotel_df.iterrows()]\n",
    "\n",
    "hotel_df.tail()"
   ]
  },
  {
   "cell_type": "code",
   "execution_count": 8,
   "metadata": {},
   "outputs": [
    {
     "name": "stdout",
     "output_type": "stream",
     "text": [
      "Missing Albany Hotel info, skipping... \n",
      "Missing Kirovsk Hotel info, skipping... \n",
      "Missing Airai Hotel info, skipping... \n",
      "Missing Camacupa Hotel info, skipping... \n",
      "Missing Takapau Hotel info, skipping... \n",
      "Missing Yumen Hotel info, skipping... \n",
      "Missing Mus Hotel info, skipping... \n",
      "Missing Dergachi Hotel info, skipping... \n",
      "Missing Poum Hotel info, skipping... \n",
      "Missing Kasongo-Lunda Hotel info, skipping... \n",
      "Missing Chala Hotel info, skipping... \n",
      "Missing Poltavka Hotel info, skipping... \n",
      "Missing Shubarshi Hotel info, skipping... \n"
     ]
    }
   ],
   "source": [
    "# 6a. Set parameters to search for hotels with 5000 meters.\n",
    "params = {\n",
    "    \"radius\": 5000,\n",
    "    \"type\": \"lodging\",\n",
    "    \"key\": g_key\n",
    "}\n",
    "\n",
    "# 6b. Iterate through the hotel DataFrame.\n",
    "for i, row in hotel_df.iterrows():\n",
    "    # 6c. Get latitude and longitude from DataFrame\n",
    "    Lat = row['Lat']\n",
    "    Lng = row['Lng']\n",
    "    \n",
    "    # 6d. Set up the base URL for the Google Directions API to get JSON data.\n",
    "    url = \"https://maps.googleapis.com/maps/api/place/nearbysearch/json?\"\n",
    "    params['location'] = f\"{Lat},{Lng}\"\n",
    "    # 6e. Make request and retrieve the JSON data from the search. \n",
    "    response = requests.get(url, params=params).json()\n",
    "    hotel_results = response['results']\n",
    "    # 6f. Get the first hotel from the results and store the name, if a hotel isn't found skip the city.\n",
    "    city = hotel_df.loc[i, 'City']\n",
    "    try:\n",
    "        hotel_df.loc[i, 'Hotel Name'] = hotel_results[0]['name']\n",
    "    except:\n",
    "        hotel_df.loc[i, 'Hotel Name'] = np.nan\n",
    "        print(f\"Missing {city} Hotel info, skipping... \")\n",
    "        pass"
   ]
  },
  {
   "cell_type": "code",
   "execution_count": 10,
   "metadata": {
    "scrolled": true
   },
   "outputs": [],
   "source": [
    "# 7. Drop the rows where there is no Hotel Name.\n",
    "clean_hotel_df = hotel_df.dropna()"
   ]
  },
  {
   "cell_type": "code",
   "execution_count": 11,
   "metadata": {},
   "outputs": [],
   "source": [
    "# 8a. Create the output File (CSV)\n",
    "output_data_file = \"WeatherPy_vacation.csv\"\n",
    "# 8b. Export the City_Data into a csv\n",
    "clean_hotel_df.to_csv(output_data_file, index_label=\"City_ID\")"
   ]
  },
  {
   "cell_type": "code",
   "execution_count": 12,
   "metadata": {},
   "outputs": [],
   "source": [
    "# 9. Using the template add city name, the country code, the weather description and maximum temperature for the city.\n",
    "info_box_template = \"\"\"\n",
    "<dl>\n",
    "<dt>Lodging</dt><dd>{Hotel Name}</dd>\n",
    "<dt>Name</dt><dd>{City}<dd>\n",
    "<dt>Country Code</dt><dd>{Country}</dd>\n",
    "<dt>Weather Description</dt><dd>{Current Description}</dd>\n",
    "<dt>High</dt><dd>{Max Temp}°F</dd>\n",
    "</dl>\n",
    "\"\"\"\n",
    "\n",
    "# 10a. Get the data from each row and add it to the formatting template and store the data in a list.\n",
    "hotel_info = [info_box_template.format(**row) for index, row in clean_hotel_df.iterrows()]\n",
    "\n",
    "# 10b. Get the latitude and longitude from each row and store in a new DataFrame.\n",
    "locations = clean_hotel_df[[\"Lat\", \"Lng\"]]"
   ]
  },
  {
   "cell_type": "code",
   "execution_count": 13,
   "metadata": {},
   "outputs": [
    {
     "data": {
      "application/vnd.jupyter.widget-view+json": {
       "model_id": "cb88007f374d463390604d968be7e936",
       "version_major": 2,
       "version_minor": 0
      },
      "text/plain": [
       "Figure(layout=FigureLayout(height='420px'))"
      ]
     },
     "metadata": {},
     "output_type": "display_data"
    }
   ],
   "source": [
    "# 11a. Add a marker layer for each city to the map. \n",
    "fig = gmaps.figure(center=(30.0, 31.0), zoom_level=1.5)\n",
    "markers = gmaps.marker_layer(locations, info_box_content=hotel_info)\n",
    "fig.add_layer(markers)\n",
    "# 11b. Display the figfigure\n",
    "fig"
   ]
  },
  {
   "cell_type": "code",
   "execution_count": null,
   "metadata": {},
   "outputs": [],
   "source": []
  },
  {
   "cell_type": "code",
   "execution_count": null,
   "metadata": {},
   "outputs": [],
   "source": []
  }
 ],
 "metadata": {
  "kernelspec": {
   "display_name": "PythonData",
   "language": "python",
   "name": "pythondata"
  },
  "language_info": {
   "codemirror_mode": {
    "name": "ipython",
    "version": 3
   },
   "file_extension": ".py",
   "mimetype": "text/x-python",
   "name": "python",
   "nbconvert_exporter": "python",
   "pygments_lexer": "ipython3",
   "version": "3.9.7"
  },
  "latex_envs": {
   "LaTeX_envs_menu_present": true,
   "autoclose": false,
   "autocomplete": true,
   "bibliofile": "biblio.bib",
   "cite_by": "apalike",
   "current_citInitial": 1,
   "eqLabelWithNumbers": true,
   "eqNumInitial": 1,
   "hotkeys": {
    "equation": "Ctrl-E",
    "itemize": "Ctrl-I"
   },
   "labels_anchors": false,
   "latex_user_defs": false,
   "report_style_numbering": false,
   "user_envs_cfg": false
  }
 },
 "nbformat": 4,
 "nbformat_minor": 2
}
